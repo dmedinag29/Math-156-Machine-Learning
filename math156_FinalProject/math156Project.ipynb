{
 "cells": [
  {
   "cell_type": "code",
   "execution_count": 1,
   "id": "corporate-pendant",
   "metadata": {},
   "outputs": [],
   "source": [
    "import numpy as np\n",
    "import pandas as pd\n",
    "import math\n",
    "import seaborn as sn\n",
    "from sklearn.datasets import fetch_openml\n",
    "from sklearn.utils.extmath import softmax\n",
    "import matplotlib.pyplot as plt\n",
    "from matplotlib import pyplot\n",
    "from sklearn import metrics\n",
    "from sklearn.metrics import accuracy_score\n",
    "from sklearn.metrics import confusion_matrix\n",
    "from sklearn.metrics import plot_confusion_matrix\n",
    "from mpl_toolkits.axes_grid1 import make_axes_locatable\n",
    "import itertools\n",
    "plt.rcParams['font.family'] = 'serif'\n",
    "plt.rcParams['font.serif'] = ['Times New Roman'] + plt.rcParams['font.serif']"
   ]
  },
  {
   "cell_type": "code",
   "execution_count": 2,
   "id": "checked-rugby",
   "metadata": {},
   "outputs": [],
   "source": [
    "def list2onehot(y, list_classes):\n",
    "    \"\"\"\n",
    "    y = list of class lables of length n\n",
    "    output = n x k array, i th row = one-hot encoding of y[i] (e.g., [0,0,1,0,0])\n",
    "    \"\"\"\n",
    "    Y = np.zeros(shape = [len(y), len(list_classes)], dtype=int)\n",
    "    for i in np.arange(Y.shape[0]):\n",
    "        for j in np.arange(len(list_classes)):\n",
    "            if y[i] == list_classes[j]:\n",
    "                Y[i,j] = 1\n",
    "    return Y"
   ]
  },
  {
   "cell_type": "code",
   "execution_count": 3,
   "id": "final-relay",
   "metadata": {},
   "outputs": [],
   "source": [
    "def onehot2list(y, list_classes=None):\n",
    "    \"\"\"\n",
    "    y = n x k array, i th row = one-hot encoding of y[i] (e.g., [0,0,1,0,0])\n",
    "    output =  list of class lables of length n\n",
    "    \"\"\"\n",
    "    if list_classes is None:\n",
    "        list_classes = np.arange(y.shape[1])\n",
    "        \n",
    "    y_list = []\n",
    "    for i in np.arange(y.shape[0]):\n",
    "        idx = np.where(y[i,:]==1)\n",
    "        idx = idx[0][0]\n",
    "        y_list.append(list_classes[idx])\n",
    "    return y_list"
   ]
  },
  {
   "cell_type": "markdown",
   "id": "practical-syntax",
   "metadata": {},
   "source": [
    "# Logistic Regression"
   ]
  },
  {
   "cell_type": "code",
   "execution_count": 4,
   "id": "isolated-telling",
   "metadata": {
    "scrolled": true
   },
   "outputs": [
    {
     "name": "stdout",
     "output_type": "stream",
     "text": [
      "   age  sex  cp  trtbps  chol  fbs  restecg  thalachh  exng  oldpeak  slp  \\\n",
      "0   63    1   3     145   233    1        0       150     0      2.3    0   \n",
      "1   37    1   2     130   250    0        1       187     0      3.5    0   \n",
      "2   41    0   1     130   204    0        0       172     0      1.4    2   \n",
      "3   56    1   1     120   236    0        1       178     0      0.8    2   \n",
      "4   57    0   0     120   354    0        1       163     1      0.6    2   \n",
      "\n",
      "   caa  thall  output  \n",
      "0    0      1       1  \n",
      "1    0      2       1  \n",
      "2    0      2       1  \n",
      "3    0      2       1  \n",
      "4    0      2       1  \n"
     ]
    }
   ],
   "source": [
    "# read csv data\n",
    "heart = pd.read_csv(\"heart.csv\")\n",
    "print(heart.head())"
   ]
  },
  {
   "cell_type": "code",
   "execution_count": 5,
   "id": "frequent-sector",
   "metadata": {},
   "outputs": [
    {
     "name": "stdout",
     "output_type": "stream",
     "text": [
      "(303, 13)\n",
      "(303,)\n"
     ]
    }
   ],
   "source": [
    "# separate X and y\n",
    "X = np.array(heart.iloc[:,:-1])\n",
    "print(X.shape)\n",
    "y = np.array(heart.iloc[:,13])\n",
    "print(y.shape)"
   ]
  },
  {
   "cell_type": "code",
   "execution_count": 6,
   "id": "tropical-basket",
   "metadata": {},
   "outputs": [
    {
     "name": "stdout",
     "output_type": "stream",
     "text": [
      "(303, 27)\n"
     ]
    }
   ],
   "source": [
    "# prevent overflow warning\n",
    "X[:,np.r_[0,3,4,7]] = X[:,np.r_[0,3,4,7]]/100\n",
    "\n",
    "# onehot2list categorical variables\n",
    "X = np.delete(X, [2,6,10,11,12], 1)\n",
    "#X = np.delete(X, [11], 1)\n",
    "rcg = list2onehot(heart.iloc[:,6].tolist(), [0,1,2])\n",
    "cp = list2onehot(heart.iloc[:,2].tolist(), [0,1,2,3])\n",
    "slp = list2onehot(heart.iloc[:,10].tolist(), [0,1,2])\n",
    "caa = list2onehot(heart.iloc[:,11].tolist(), [0,1,2,3,4])\n",
    "thall = list2onehot(heart.iloc[:,12].tolist(), [0,1,2,3])\n",
    "\n",
    "X = np.hstack((X, rcg, cp, slp, caa, thall))\n",
    "#X = np.hstack((X, cp, slp, thall))\n",
    "print(X.shape)"
   ]
  },
  {
   "cell_type": "code",
   "execution_count": 7,
   "id": "binary-village",
   "metadata": {},
   "outputs": [],
   "source": [
    "y0 = list2onehot(y.tolist(), [0,1])"
   ]
  },
  {
   "cell_type": "code",
   "execution_count": 8,
   "id": "controlling-haiti",
   "metadata": {},
   "outputs": [
    {
     "name": "stdout",
     "output_type": "stream",
     "text": [
      "X_train.shape (233, 27)\n",
      "X_test.shape (70, 27)\n",
      "y_train.shape (233, 2)\n",
      "y_test.shape (70, 2)\n"
     ]
    }
   ],
   "source": [
    "# Split the dataset into train and test sets\n",
    "\n",
    "X_train = []\n",
    "X_test = []\n",
    "y_test = []\n",
    "y_train = []\n",
    "\n",
    "for i in np.arange(X.shape[0]):\n",
    "    # for each example i, make it into train set with probabiliy 0.8 and into test set otherwise \n",
    "    U = np.random.rand() # Uniform([0,1]) variable\n",
    "    if U<0.8:\n",
    "        X_train.append(X[i,:])\n",
    "        y_train.append(y0[i])\n",
    "    else:\n",
    "        X_test.append(X[i,:])\n",
    "        y_test.append(y0[i])\n",
    "X_train = np.asarray(X_train)\n",
    "X_test = np.asarray(X_test)\n",
    "y_train = np.asarray(y_train)\n",
    "y_test = np.asarray(y_test)\n",
    "\n",
    "print('X_train.shape', X_train.shape)\n",
    "print('X_test.shape', X_test.shape)\n",
    "print('y_train.shape', y_train.shape)\n",
    "print('y_test.shape', y_test.shape)"
   ]
  },
  {
   "cell_type": "code",
   "execution_count": 9,
   "id": "marine-clothing",
   "metadata": {},
   "outputs": [],
   "source": [
    "# sigmoid and logit function \n",
    "def sigmoid(x):\n",
    "    return np.exp(x)/(1+np.exp(x))"
   ]
  },
  {
   "cell_type": "code",
   "execution_count": 10,
   "id": "second-parts",
   "metadata": {},
   "outputs": [],
   "source": [
    "def fit_MLR_GD(Y, H, W0=None, sub_iter=100, stopping_diff=0.01):\n",
    "        '''\n",
    "        Convex optimization algorithm for Multiclass Logistic Regression using Gradient Descent \n",
    "        Y = (n x k), H = (p x n) (\\Phi in lecture note), W = (p x k)\n",
    "        Multiclass Logistic Regression: Y ~ vector of discrete RVs with PMF = sigmoid(H.T @ W)\n",
    "        MLE -->\n",
    "        Find \\hat{W} = argmin_W ( sum_j ( log(1+exp(H_j.T @ W) ) - Y.T @ H.T @ W ) )\n",
    "        '''\n",
    "        k = Y.shape[1] # number of classes \n",
    "        if W0 is None:\n",
    "            W0 = 2*np.random.rand(H.shape[0],k)-1 #If initial coefficients W0 is None, randomly initialize  \n",
    "            \n",
    "        W1 = W0.copy()\n",
    "        i = 0\n",
    "        grad = np.ones(W0.shape)\n",
    "        while (i < sub_iter) and (np.linalg.norm(grad) > stopping_diff):\n",
    "            Q = 1/(1+np.exp(-H.T @ W1))  # probability matrix, same shape as Y\n",
    "            # grad = H @ (Q - Y).T + alpha * np.ones(W0.shape[1])\n",
    "            grad = H @ (Q - Y)\n",
    "            W1 = W1 - (np.log(i+1) / (((i + 1) ** (0.5)))) * grad\n",
    "            i = i + 1\n",
    "            # print('iter %i, grad_norm %f' %(i, np.linalg.norm(grad)))\n",
    "        return W1"
   ]
  },
  {
   "cell_type": "code",
   "execution_count": 11,
   "id": "married-threshold",
   "metadata": {},
   "outputs": [],
   "source": [
    "def multiclass_accuracy_metrics(Y_test, P_pred, class_labels=None, use_opt_threshold=False):\n",
    "    # y_test = multiclass one-hot encoding  labels \n",
    "    # Q = predicted probability for y_test\n",
    "    # compuate various classification accuracy metrics\n",
    "    results_dict = {}\n",
    "    y_test = []\n",
    "    y_pred = []\n",
    "    for i in np.arange(Y_test.shape[0]):\n",
    "        for j in np.arange(Y_test.shape[1]):\n",
    "            if Y_test[i,j] == 1:\n",
    "                y_test.append(j)\n",
    "            if P_pred[i,j] == np.max(P_pred[i,:]):\n",
    "                # print('!!!', np.where(P_pred[i,:]==np.max(P_pred[i,:])))\n",
    "                y_pred.append(j)\n",
    "            \n",
    "    confusion_mx = metrics.confusion_matrix(y_test, y_pred)\n",
    "    print('!!! confusion_mx', confusion_mx)\n",
    "    results_dict.update({'confusion_mx':confusion_mx})\n",
    "    \n",
    "    return results_dict"
   ]
  },
  {
   "cell_type": "code",
   "execution_count": 12,
   "id": "burning-steel",
   "metadata": {},
   "outputs": [
    {
     "name": "stdout",
     "output_type": "stream",
     "text": [
      "!!! confusion_mx [[32  2]\n",
      " [18 18]]\n"
     ]
    },
    {
     "name": "stderr",
     "output_type": "stream",
     "text": [
      "<ipython-input-10-263749036d71>:17: RuntimeWarning: overflow encountered in exp\n",
      "  Q = 1/(1+np.exp(-H.T @ W1))  # probability matrix, same shape as Y\n"
     ]
    },
    {
     "data": {
      "text/plain": [
       "<AxesSubplot:>"
      ]
     },
     "execution_count": 12,
     "metadata": {},
     "output_type": "execute_result"
    },
    {
     "data": {
      "image/png": "[encoded data removed]",
      "text/plain": [
       "<Figure size 432x288 with 2 Axes>"
      ]
     },
     "metadata": {
      "needs_background": "light"
     },
     "output_type": "display_data"
    }
   ],
   "source": [
    "# Train the multiclass logistic regression model \n",
    "H_train = np.vstack((np.ones(X_train.shape[0]), X_train.T))  # add first row of 1's for bias features \n",
    "W = fit_MLR_GD(Y=y_train, H=H_train) \n",
    "\n",
    "# Get predicted probabilities \n",
    "H_test = np.vstack((np.ones(X_test.shape[0]), X_test.T))\n",
    "Q = softmax(H_test.T @ W.copy()) # predicted probabilities for y_test # Uses sklearn's softmax for numerical stability\n",
    "\n",
    "results_dict = multiclass_accuracy_metrics(Y_test=y_test, P_pred=Q)\n",
    "confusion_mx = results_dict.get('confusion_mx')\n",
    "\n",
    "sn.heatmap(confusion_mx, cmap=\"YlGnBu\")"
   ]
  },
  {
   "cell_type": "code",
   "execution_count": 13,
   "id": "irish-barrel",
   "metadata": {},
   "outputs": [],
   "source": [
    "def fit_LR_GD(Y, H, W0=None, sub_iter=100, stopping_diff=0.01):\n",
    "        '''\n",
    "        Convex optimization algorithm for Logistic Regression using Gradient Descent \n",
    "        Y = (n x 1), H = (p x n) (\\Phi in lecture note), W = (p x 1)\n",
    "        Logistic Regression: Y ~ Bernoulli(Q), Q = sigmoid(H.T @ W)\n",
    "        MLE -->\n",
    "        Find \\hat{W} = argmin_W ( sum_j ( log(1+exp(H_j.T @ W) ) - Y.T @ H.T @ W ) )\n",
    "        '''\n",
    "        if W0 is None:\n",
    "            W0 = np.random.rand(H.shape[0],1) #If initial coefficients W0 is None, randomly initialize  \n",
    "            \n",
    "        \n",
    "        \n",
    "        W1 = W0.copy()\n",
    "        i = 0\n",
    "        grad = np.ones(W0.shape)\n",
    "        while (i < sub_iter) and (np.linalg.norm(grad) > stopping_diff):\n",
    "            Q = 1/(1+np.exp(-H.T @ W1))  # probability matrix, same shape as Y\n",
    "            # grad = H @ (Q - Y).T + alpha * np.ones(W0.shape[1])\n",
    "            grad = H @ (Q - Y)\n",
    "            W1 = W1 - (np.log(i+1) / (((i + 1) ** (0.5)))) * grad\n",
    "            i = i + 1\n",
    "            # print('iter %i, grad_norm %f' %(i, np.linalg.norm(grad)))\n",
    "        return W1"
   ]
  },
  {
   "cell_type": "code",
   "execution_count": 14,
   "id": "identical-teens",
   "metadata": {},
   "outputs": [],
   "source": [
    "def compute_accuracy_metrics(Y_test, P_pred, use_opt_threshold=False):\n",
    "    # y_test = binary label \n",
    "    # Q = predicted probability for y_test\n",
    "    # compuate various binary classification accuracy metrics\n",
    "    fpr, tpr, thresholds = metrics.roc_curve(Y_test, P_pred, pos_label=None)\n",
    "    mythre = thresholds[np.argmax(tpr - fpr)]\n",
    "    myauc = metrics.auc(fpr, tpr)\n",
    "    # print('!!! auc', myauc)\n",
    "    \n",
    "    # Compute classification statistics\n",
    "    threshold = 0.5\n",
    "    if use_opt_threshold:\n",
    "        threshold = mythre\n",
    "    \n",
    "    Y_pred = Q.copy()\n",
    "    Y_pred[Y_pred < threshold] = 0\n",
    "    Y_pred[Y_pred >= threshold] = 1\n",
    "\n",
    "    mcm = confusion_matrix(Y_test, Y_pred)\n",
    "    tn = mcm[0, 0]\n",
    "    tp = mcm[1, 1]\n",
    "    fn = mcm[1, 0]\n",
    "    fp = mcm[0, 1]\n",
    "\n",
    "    accuracy = (tp + tn) / (tp + tn + fp + fn)\n",
    "    sensitivity = tn / (tn + fp)\n",
    "    specificity = tp / (tp + fn)\n",
    "    precision = tp / (tp + fp)\n",
    "    fall_out = fp / (fp + tn)\n",
    "    miss_rate = fn / (fn + tp)\n",
    "\n",
    "    # Save results\n",
    "    results_dict = {}\n",
    "    results_dict.update({'Y_test': Y_test})\n",
    "    results_dict.update({'Y_pred': Y_pred})\n",
    "    results_dict.update({'AUC': myauc})\n",
    "    results_dict.update({'Opt_threshold': mythre})\n",
    "    results_dict.update({'Accuracy': accuracy})\n",
    "    results_dict.update({'Sensitivity': sensitivity})\n",
    "    results_dict.update({'Specificity': specificity})\n",
    "    results_dict.update({'Precision': precision})\n",
    "    results_dict.update({'Fall_out': fall_out})\n",
    "    results_dict.update({'Miss_rate': miss_rate})\n",
    "    return results_dict"
   ]
  },
  {
   "cell_type": "code",
   "execution_count": 15,
   "id": "recognized-sullivan",
   "metadata": {},
   "outputs": [
    {
     "name": "stdout",
     "output_type": "stream",
     "text": [
      "X_train.shape (237, 27)\n",
      "X_test.shape (66, 27)\n",
      "y_train.shape (237, 1)\n",
      "y_test.shape (66, 1)\n"
     ]
    }
   ],
   "source": [
    "# Split the dataset into train and test sets\n",
    "\n",
    "X_train = []\n",
    "X_test = []\n",
    "y_test = []\n",
    "y_train = []\n",
    "\n",
    "for i in np.arange(X.shape[0]):\n",
    "    # for each example i, make it into train set with probabiliy 0.8 and into test set otherwise \n",
    "    U = np.random.rand() # Uniform([0,1]) variable\n",
    "    if U<0.8:\n",
    "        X_train.append(X[i,:])\n",
    "        y_train.append(y[i])\n",
    "    else:\n",
    "        X_test.append(X[i,:])\n",
    "        y_test.append(y[i])\n",
    "\n",
    "X_train = np.asarray(X_train)\n",
    "X_test = np.asarray(X_test)\n",
    "y_train = np.asarray(y_train).reshape(-1,1)\n",
    "y_test = np.asarray(y_test).reshape(-1,1)\n",
    "\n",
    "print('X_train.shape', X_train.shape)\n",
    "print('X_test.shape', X_test.shape)\n",
    "print('y_train.shape', y_train.shape)\n",
    "print('y_test.shape', y_test.shape)\n",
    "#print('y_test', y_test)"
   ]
  },
  {
   "cell_type": "code",
   "execution_count": 16,
   "id": "graduate-faith",
   "metadata": {},
   "outputs": [
    {
     "name": "stdout",
     "output_type": "stream",
     "text": [
      "AUC = 0.905331\n",
      "Opt_threshold = 0.000000\n",
      "Accuracy = 0.818182\n",
      "Sensitivity = 0.937500\n",
      "Specificity = 0.705882\n",
      "Precision = 0.923077\n",
      "Fall_out = 0.062500\n",
      "Miss_rate = 0.294118\n"
     ]
    },
    {
     "name": "stderr",
     "output_type": "stream",
     "text": [
      "<ipython-input-13-7ee600204434>:18: RuntimeWarning: overflow encountered in exp\n",
      "  Q = 1/(1+np.exp(-H.T @ W1))  # probability matrix, same shape as Y\n"
     ]
    }
   ],
   "source": [
    "# fit logistic regression using GD and compute binary classification accuracies\n",
    "\n",
    "# Train the logistic regression model \n",
    "H_train = np.vstack((np.ones(X_train.shape[0]), X_train.T))  # add first row of 1's for bias features \n",
    "W = fit_LR_GD(Y=y_train, H=H_train)\n",
    "\n",
    "# Get predicted probabilities \n",
    "H_test = np.vstack((np.ones(X_test.shape[0]), X_test.T))\n",
    "Q = 1 / (1 + np.exp(-H_test.T @ W)) # predicted probabilities for y_test\n",
    "\n",
    "# Compute binary classification accuracies\n",
    "results_dict = compute_accuracy_metrics(Y_test=y_test, P_pred = Q)\n",
    "\n",
    "# Print out the results \n",
    "\n",
    "keys_list = [i for i in results_dict.keys()]\n",
    "for key in keys_list:\n",
    "    if key not in ['Y_test', 'Y_pred']:\n",
    "        print('%s = %f' % (key, results_dict.get(key)))\n"
   ]
  },
  {
   "cell_type": "markdown",
   "id": "outer-instrumentation",
   "metadata": {},
   "source": [
    "# Naive Bayes"
   ]
  },
  {
   "cell_type": "code",
   "execution_count": 17,
   "id": "artistic-coating",
   "metadata": {},
   "outputs": [
    {
     "name": "stdout",
     "output_type": "stream",
     "text": [
      "   age  sex  cp  trtbps  chol  fbs  restecg  thalachh  exng  oldpeak  slp  \\\n",
      "0   63    1   3     145   233    1        0       150     0      2.3    0   \n",
      "1   37    1   2     130   250    0        1       187     0      3.5    0   \n",
      "2   41    0   1     130   204    0        0       172     0      1.4    2   \n",
      "3   56    1   1     120   236    0        1       178     0      0.8    2   \n",
      "4   57    0   0     120   354    0        1       163     1      0.6    2   \n",
      "\n",
      "   caa  thall  output  \n",
      "0    0      1       1  \n",
      "1    0      2       1  \n",
      "2    0      2       1  \n",
      "3    0      2       1  \n",
      "4    0      2       1  \n"
     ]
    }
   ],
   "source": [
    "heart = pd.read_csv(\"heart.csv\")\n",
    "print(heart.head())"
   ]
  },
  {
   "cell_type": "code",
   "execution_count": 18,
   "id": "instrumental-lodge",
   "metadata": {},
   "outputs": [
    {
     "name": "stdout",
     "output_type": "stream",
     "text": [
      "    age  sex  cp  trtbps  chol  fbs  restecg  thalachh  exng  oldpeak  slp  \\\n",
      "0  0.63    1   3    1.45  2.33    1        0      1.50     0      2.3    0   \n",
      "1  0.37    1   2    1.30  2.50    0        1      1.87     0      3.5    0   \n",
      "2  0.41    0   1    1.30  2.04    0        0      1.72     0      1.4    2   \n",
      "3  0.56    1   1    1.20  2.36    0        1      1.78     0      0.8    2   \n",
      "4  0.57    0   0    1.20  3.54    0        1      1.63     1      0.6    2   \n",
      "\n",
      "   caa  thall  output  \n",
      "0    0      1       1  \n",
      "1    0      2       1  \n",
      "2    0      2       1  \n",
      "3    0      2       1  \n",
      "4    0      2       1  \n"
     ]
    }
   ],
   "source": [
    "#preventing overflow errors\n",
    "large_cols = [\"age\", \"trtbps\", \"chol\", \"thalachh\"]\n",
    "for cols in large_cols:\n",
    "    heart[cols]/= 100\n",
    "print(heart.head())"
   ]
  },
  {
   "cell_type": "code",
   "execution_count": 19,
   "id": "british-lithuania",
   "metadata": {},
   "outputs": [
    {
     "name": "stdout",
     "output_type": "stream",
     "text": [
      "(303, 13)\n",
      "(303,)\n"
     ]
    }
   ],
   "source": [
    "# separate X and y\n",
    "X = heart.drop(\"output\", axis =1)\n",
    "print(X.shape)\n",
    "y = np.array(heart.iloc[:,13])\n",
    "print(y.shape)"
   ]
  },
  {
   "cell_type": "code",
   "execution_count": 20,
   "id": "roman-water",
   "metadata": {},
   "outputs": [],
   "source": [
    "def create_feature_vectors(df, classifiers):\n",
    "    feature_vect_list = []\n",
    "    for i in range(df.shape[0]):\n",
    "        feature_vect = []\n",
    "        for col in df.columns:\n",
    "            value = df.loc[i][col]\n",
    "            if col not in classifiers.keys():\n",
    "                feature_vect.append(value)\n",
    "            else:\n",
    "                for possible_value in classifiers[col]:\n",
    "                    if value == possible_value:\n",
    "                        feature_vect.append(1)\n",
    "                    else:\n",
    "                        feature_vect.append(0)\n",
    "        #print(len(feature_vect))\n",
    "        feature_vect_list.append(feature_vect)\n",
    "    feature_vect_list = np.asarray(feature_vect_list)\n",
    "    return feature_vect_list"
   ]
  },
  {
   "cell_type": "code",
   "execution_count": 21,
   "id": "bright-entry",
   "metadata": {},
   "outputs": [],
   "source": [
    "def list2onehot(y, list_classes):\n",
    "    \"\"\"\n",
    "    y = list of class lables of length n\n",
    "    output = n x k array, i th row = one-hot encoding of y[i] (e.g., [0,0,1,0,0])\n",
    "    \"\"\"\n",
    "    Y = np.zeros(shape = [len(y), len(list_classes)], dtype=int)\n",
    "    for i in np.arange(Y.shape[0]):\n",
    "        for j in np.arange(len(list_classes)):\n",
    "            if y[i] == list_classes[j]:\n",
    "                Y[i,j] = 1\n",
    "    return Y"
   ]
  },
  {
   "cell_type": "code",
   "execution_count": 22,
   "id": "narrow-jacksonville",
   "metadata": {},
   "outputs": [],
   "source": [
    "#define classifiers\n",
    "classifiers = {\"cp\": [], \"slp\": [], \"thall\": [], \"restecg\": [], \"caa\": []}\n",
    "#assigns classifiers with all the possible classifications\n",
    "for col in heart.columns:\n",
    "    if col in classifiers.keys():\n",
    "        for value in heart[col]:\n",
    "            if value not in classifiers[col]:\n",
    "                classifiers[col].append(value)\n",
    "        classifiers[col].sort()\n",
    "\n",
    "X = create_feature_vectors(X, classifiers)"
   ]
  },
  {
   "cell_type": "code",
   "execution_count": 23,
   "id": "desirable-index",
   "metadata": {},
   "outputs": [
    {
     "name": "stdout",
     "output_type": "stream",
     "text": [
      "(303, 2)\n"
     ]
    }
   ],
   "source": [
    "y0 = list2onehot(y.tolist(), [0,1])\n",
    "print(y0.shape)"
   ]
  },
  {
   "cell_type": "code",
   "execution_count": 24,
   "id": "pleasant-affiliate",
   "metadata": {},
   "outputs": [],
   "source": [
    "def fit_MNB(Y, H):\n",
    "    '''\n",
    "    Fit Multinomial Naive Bayes Calssifier\n",
    "    Use the Maximum Likelihood prior and class conditional probabilities (in closed forms)\n",
    "    Y = (n x k), H = (p x n) (\\Phi in lecture note), W = (p x k)\n",
    "    prior on class labels = empirical PMF = [ # class i examples / total ]\n",
    "    class-conditional for class i = [ # word j in class i examples / # words in class i examples]\n",
    "    Output = prior (k, ), class_conditional_PMF = (k, p)\n",
    "    '''\n",
    "    k = Y.shape[1] # number of classes \n",
    "\n",
    "    prior = np.sum(Y, axis=0)/np.sum(np.sum(Y, axis=0))\n",
    "\n",
    "    class_conditional_PMF = []\n",
    "    for i in np.arange(Y.shape[1]):\n",
    "        idx = np.where(Y[:,i]==1)\n",
    "        sub_H = H[:,idx[0]] + 1# add psuedocount\n",
    "        word_count_per_class = np.sum(sub_H, axis=1)\n",
    "        class_conditional_PMF.append(word_count_per_class/np.sum(word_count_per_class))\n",
    "\n",
    "    return prior, np.asarray(class_conditional_PMF)"
   ]
  },
  {
   "cell_type": "code",
   "execution_count": 25,
   "id": "concrete-green",
   "metadata": {},
   "outputs": [],
   "source": [
    "def predict_MNB(X_test, prior, class_conditional_PMF):\n",
    "    '''\n",
    "    Compute predicted PMF for the test data given prior and class_conditional_PMF\n",
    "    Simple use of Bayes' Theorem \n",
    "    X_test = (p x n) (words x docs)\n",
    "    '''\n",
    "    print(X_test.shape)\n",
    "    print(class_conditional_PMF.shape)\n",
    "    \n",
    "    P = class_conditional_PMF / np.min(class_conditional_PMF) # normalize so that log(P) is not too small \n",
    "    Q = np.exp(X_test @ np.log(P).T)\n",
    "    Q = Q * np.repeat(prior[:, np.newaxis], repeats=Q.shape[0], axis=1).T\n",
    "    sum_of_rows = Q.sum(axis=1)\n",
    "    \n",
    "    \n",
    "    return Q / sum_of_rows[:, np.newaxis]\n"
   ]
  },
  {
   "cell_type": "code",
   "execution_count": 26,
   "id": "fundamental-raise",
   "metadata": {},
   "outputs": [],
   "source": [
    "def multiclass_accuracy_metrics(Y_test, P_pred, class_labels=None, use_opt_threshold=False):\n",
    "    # y_test = multiclass one-hot encoding  labels \n",
    "    # Q = predicted probability for y_test\n",
    "    # compuate various classification accuracy metrics\n",
    "    results_dict = {}\n",
    "    y_test = []\n",
    "    y_pred = []\n",
    "    for i in np.arange(Y_test.shape[0]):\n",
    "        for j in np.arange(Y_test.shape[1]):\n",
    "            if Y_test[i,j] == 1:\n",
    "                y_test.append(j)\n",
    "            if P_pred[i,j] == np.max(P_pred[i,:]):\n",
    "                # print('!!!', np.where(P_pred[i,:]==np.max(P_pred[i,:])))\n",
    "                y_pred.append(j)\n",
    "                \n",
    "    print(\"y_test\", len(y_test))\n",
    "    print(\"y_pred\", len(y_pred))\n",
    "    \n",
    "    confusion_mx = metrics.confusion_matrix(y_test, y_pred)\n",
    "    print('!!! confusion_mx', confusion_mx)\n",
    "    results_dict.update({'confusion_mx':confusion_mx})\n",
    "    \n",
    "    return results_dict"
   ]
  },
  {
   "cell_type": "code",
   "execution_count": 27,
   "id": "static-queensland",
   "metadata": {},
   "outputs": [],
   "source": [
    "def onehot2list(y, list_classes=None):\n",
    "    \"\"\"\n",
    "    y = n x k array, i th row = one-hot encoding of y[i] (e.g., [0,0,1,0,0])\n",
    "    output =  list of class lables of length n\n",
    "    \"\"\"\n",
    "    if list_classes is None:\n",
    "        list_classes = np.arange(y.shape[1])\n",
    "        \n",
    "    y_list = []\n",
    "    for i in np.arange(y.shape[0]):\n",
    "        idx = np.where(y[i,:]==1)\n",
    "        idx = idx[0][0]\n",
    "        y_list.append(list_classes[idx])\n",
    "    return y_list"
   ]
  },
  {
   "cell_type": "code",
   "execution_count": 28,
   "id": "completed-tourist",
   "metadata": {},
   "outputs": [],
   "source": [
    "def compute_accuracy_metrics(Y_test, P_pred, use_opt_threshold=False):\n",
    "    # y_test = binary label \n",
    "    # Q = predicted probability for y_test\n",
    "    # compuate various binary classification accuracy metrics\n",
    "    fpr, tpr, thresholds = metrics.roc_curve(Y_test, P_pred, pos_label=None)\n",
    "    mythre = thresholds[np.argmax(tpr - fpr)]\n",
    "    myauc = metrics.auc(fpr, tpr)\n",
    "    # print('!!! auc', myauc)\n",
    "    \n",
    "    # Compute classification statistics\n",
    "    threshold = 0.5\n",
    "    if use_opt_threshold:\n",
    "        threshold = mythre\n",
    "    \n",
    "    Y_pred = P_pred.copy()\n",
    "    Y_pred[Y_pred < threshold] = 0\n",
    "    Y_pred[Y_pred >= threshold] = 1\n",
    "\n",
    "    mcm = confusion_matrix(Y_test, Y_pred)\n",
    "    tn = mcm[0, 0]\n",
    "    tp = mcm[1, 1]\n",
    "    fn = mcm[1, 0]\n",
    "    fp = mcm[0, 1]\n",
    "\n",
    "    accuracy = (tp + tn) / (tp + tn + fp + fn)\n",
    "    sensitivity = tn / (tn + fp)\n",
    "    specificity = tp / (tp + fn)\n",
    "    precision = tp / (tp + fp)\n",
    "    fall_out = fp / (fp + tn)\n",
    "    miss_rate = fn / (fn + tp)\n",
    "\n",
    "    # Save results\n",
    "    results_dict = {}\n",
    "    results_dict.update({'Y_test': Y_test})\n",
    "    results_dict.update({'Y_pred': Y_pred})\n",
    "    results_dict.update({'AUC': myauc})\n",
    "    results_dict.update({'Opt_threshold': mythre})\n",
    "    results_dict.update({'Accuracy': accuracy})\n",
    "    results_dict.update({'Sensitivity': sensitivity})\n",
    "    results_dict.update({'Specificity': specificity})\n",
    "    results_dict.update({'Precision': precision})\n",
    "    results_dict.update({'Fall_out': fall_out})\n",
    "    results_dict.update({'Miss_rate': miss_rate})\n",
    "    return results_dict"
   ]
  },
  {
   "cell_type": "code",
   "execution_count": 29,
   "id": "interpreted-destination",
   "metadata": {},
   "outputs": [
    {
     "name": "stdout",
     "output_type": "stream",
     "text": [
      "X_train.shape (235, 27)\n",
      "X_test.shape (68, 27)\n",
      "y_train.shape (235, 2)\n",
      "y_test.shape (68, 2)\n"
     ]
    }
   ],
   "source": [
    "# Split the dataset into train and test sets\n",
    "\n",
    "X_train = []\n",
    "X_test = []\n",
    "y_test = []\n",
    "y_train = []\n",
    "\n",
    "for i in np.arange(X.shape[0]):\n",
    "    # for each example i, make it into train set with probabiliy 0.8 and into test set otherwise \n",
    "    U = np.random.rand() # Uniform([0,1]) variable\n",
    "    if U<0.8:\n",
    "        X_train.append(X[i,:])\n",
    "        y_train.append(y0[i])\n",
    "    else:\n",
    "        X_test.append(X[i,:])\n",
    "        y_test.append(y0[i])\n",
    "X_train = np.asarray(X_train)\n",
    "X_test = np.asarray(X_test)\n",
    "y_train = np.asarray(y_train)\n",
    "y_test = np.asarray(y_test)\n",
    "\n",
    "print('X_train.shape', X_train.shape)\n",
    "print('X_test.shape', X_test.shape)\n",
    "print('y_train.shape', y_train.shape)\n",
    "print('y_test.shape', y_test.shape)"
   ]
  },
  {
   "cell_type": "code",
   "execution_count": 30,
   "id": "charged-rebecca",
   "metadata": {},
   "outputs": [
    {
     "name": "stdout",
     "output_type": "stream",
     "text": [
      "(68, 27)\n",
      "(2, 27)\n",
      "y_test 68\n",
      "y_pred 68\n",
      "!!! confusion_mx [[32  8]\n",
      " [ 2 26]]\n",
      "\n",
      "AUC = 0.919643\n",
      "Opt_threshold = 0.549380\n",
      "Accuracy = 0.852941\n",
      "Sensitivity = 0.800000\n",
      "Specificity = 0.928571\n",
      "Precision = 0.764706\n",
      "Fall_out = 0.200000\n",
      "Miss_rate = 0.071429\n"
     ]
    },
    {
     "data": {
      "image/png": "[encoded data removed]",
      "text/plain": [
       "<Figure size 288x288 with 2 Axes>"
      ]
     },
     "metadata": {
      "needs_background": "light"
     },
     "output_type": "display_data"
    }
   ],
   "source": [
    "prior, class_cond_PMF = fit_MNB(Y = y_train, H=X_train.T)\n",
    "\n",
    "predict_test = predict_MNB(X_test, prior, class_cond_PMF)\n",
    "\n",
    "\n",
    "# Compute binary classification accuracies\n",
    "results_dict1 = multiclass_accuracy_metrics(Y_test=y_test, P_pred = predict_test)\n",
    "\n",
    "\n",
    "y_test2 = np.asarray(onehot2list(y_test))\n",
    "results_dict2 = compute_accuracy_metrics(Y_test = y_test2, P_pred = predict_test[:,1])\n",
    "\n",
    "\n",
    "# Print out the results \n",
    "\n",
    "fig, ax = plt.subplots(nrows=1, ncols=1, figsize=[4,4])\n",
    "\n",
    "confusion_mx = results_dict1.get(\"confusion_mx\")\n",
    "im =ax.imshow(confusion_mx)\n",
    "\n",
    "cbar_ax = fig.add_axes([0.92, 0.15, 0.01, 0.7])\n",
    "fig.colorbar(im, cax=cbar_ax)\n",
    "\n",
    "print()\n",
    "\n",
    "keys_list = [i for i in results_dict2.keys()]\n",
    "for key in keys_list:\n",
    "    if key not in ['Y_test', 'Y_pred']:\n",
    "        print('%s = %f' % (key, results_dict2.get(key)))"
   ]
  },
  {
   "cell_type": "markdown",
   "id": "loved-thong",
   "metadata": {},
   "source": [
    "# Feed Forward Neural Network"
   ]
  },
  {
   "cell_type": "code",
   "execution_count": 31,
   "id": "cutting-workplace",
   "metadata": {},
   "outputs": [],
   "source": [
    "def list2onehot(y, list_classes):\n",
    "    \"\"\"\n",
    "    y = list of class lables of length n\n",
    "    output = n x k array, i th row = one-hot encoding of y[i] (e.g., [0,0,1,0,0])\n",
    "    \"\"\"\n",
    "    Y = np.zeros(shape = [len(y), len(list_classes)], dtype=int)\n",
    "    for i in np.arange(Y.shape[0]):\n",
    "        for j in np.arange(len(list_classes)):\n",
    "            if y[i] == list_classes[j]:\n",
    "                Y[i,j] = 1\n",
    "    return Y"
   ]
  },
  {
   "cell_type": "code",
   "execution_count": 32,
   "id": "analyzed-smoke",
   "metadata": {},
   "outputs": [],
   "source": [
    "def onehot2list(y, list_classes=None):\n",
    "    \"\"\"\n",
    "    y = n x k array, i th row = one-hot encoding of y[i] (e.g., [0,0,1,0,0])\n",
    "    output =  list of class lables of length n\n",
    "    \"\"\"\n",
    "    if list_classes is None:\n",
    "        list_classes = np.arange(y.shape[1])\n",
    "        \n",
    "    y_list = []\n",
    "    for i in np.arange(y.shape[0]):\n",
    "        idx = np.where(y[i,:]==1)\n",
    "        idx = idx[0][0]\n",
    "        y_list.append(list_classes[idx])\n",
    "    return y_list"
   ]
  },
  {
   "cell_type": "code",
   "execution_count": 33,
   "id": "democratic-latvia",
   "metadata": {},
   "outputs": [
    {
     "name": "stdout",
     "output_type": "stream",
     "text": [
      "     age  sex  cp  trtbps  chol  fbs  restecg  thalachh  exng  oldpeak  slp  \\\n",
      "0     63    1   3     145   233    1        0       150     0      2.3    0   \n",
      "1     37    1   2     130   250    0        1       187     0      3.5    0   \n",
      "2     41    0   1     130   204    0        0       172     0      1.4    2   \n",
      "3     56    1   1     120   236    0        1       178     0      0.8    2   \n",
      "4     57    0   0     120   354    0        1       163     1      0.6    2   \n",
      "..   ...  ...  ..     ...   ...  ...      ...       ...   ...      ...  ...   \n",
      "298   57    0   0     140   241    0        1       123     1      0.2    1   \n",
      "299   45    1   3     110   264    0        1       132     0      1.2    1   \n",
      "300   68    1   0     144   193    1        1       141     0      3.4    1   \n",
      "301   57    1   0     130   131    0        1       115     1      1.2    1   \n",
      "302   57    0   1     130   236    0        0       174     0      0.0    1   \n",
      "\n",
      "     caa  thall  output  \n",
      "0      0      1       1  \n",
      "1      0      2       1  \n",
      "2      0      2       1  \n",
      "3      0      2       1  \n",
      "4      0      2       1  \n",
      "..   ...    ...     ...  \n",
      "298    0      3       0  \n",
      "299    0      3       0  \n",
      "300    2      3       0  \n",
      "301    1      3       0  \n",
      "302    1      2       0  \n",
      "\n",
      "[303 rows x 14 columns]\n"
     ]
    }
   ],
   "source": [
    "# read csv data\n",
    "heart = pd.read_csv(\"heart.csv\")\n",
    "print(heart)"
   ]
  },
  {
   "cell_type": "code",
   "execution_count": 34,
   "id": "frequent-sector",
   "metadata": {},
   "outputs": [
    {
     "name": "stdout",
     "output_type": "stream",
     "text": [
      "(303, 13)\n",
      "(303,)\n"
     ]
    }
   ],
   "source": [
    "# separate X and y\n",
    "X = np.array(heart.iloc[:,:-1])\n",
    "print(X.shape)\n",
    "y = np.array(heart.iloc[:,13])\n",
    "print(y.shape)"
   ]
  },
  {
   "cell_type": "code",
   "execution_count": 35,
   "id": "tropical-basket",
   "metadata": {},
   "outputs": [
    {
     "name": "stdout",
     "output_type": "stream",
     "text": [
      "(303, 27)\n"
     ]
    }
   ],
   "source": [
    "# prevent overflow warning\n",
    "X[:,np.r_[0,3,4,7]] = X[:,np.r_[0,3,4,7]]/100\n",
    "\n",
    "# onehot2list categorical variables\n",
    "X = np.delete(X, [2,10,11,12],1)\n",
    "cp = list2onehot(heart.iloc[:,2].tolist(), [0,1,2,3]) \n",
    "slp = list2onehot(heart.iloc[:,10].tolist(), [0,1,2]) #what is this\n",
    "caa = list2onehot(heart.iloc[:,11].tolist(), [0,1,2,3]) #should this be one hot?\n",
    "thall = list2onehot(heart.iloc[:,12].tolist(), [0,1,2,3]) #what is this\n",
    "restecg = list2onehot(heart.iloc[:,6].tolist(), [0,1,2]) #what is this\n",
    "\n",
    "X = np.hstack((X, cp, slp, thall, restecg, caa))\n",
    "print(X.shape)"
   ]
  },
  {
   "cell_type": "code",
   "execution_count": 36,
   "id": "binary-village",
   "metadata": {},
   "outputs": [],
   "source": [
    "y0 = list2onehot(y.tolist(), [0,1])"
   ]
  },
  {
   "cell_type": "code",
   "execution_count": 37,
   "id": "recognized-sullivan",
   "metadata": {},
   "outputs": [
    {
     "name": "stdout",
     "output_type": "stream",
     "text": [
      "X_train.shape (242, 27)\n",
      "X_test.shape (61, 27)\n",
      "y_train.shape (242, 1)\n",
      "y_test.shape (61, 1)\n"
     ]
    }
   ],
   "source": [
    "# Split the dataset into train and test sets\n",
    "\n",
    "X_train = []\n",
    "X_test = []\n",
    "y_test = []\n",
    "y_train = []\n",
    "\n",
    "for i in np.arange(X.shape[0]):\n",
    "    # for each example i, make it into train set with probabiliy 0.8 and into test set otherwise \n",
    "    U = np.random.rand() # Uniform([0,1]) variable\n",
    "    if U<0.8:\n",
    "        X_train.append(X[i,:])\n",
    "        y_train.append(y[i])\n",
    "    else:\n",
    "        X_test.append(X[i,:])\n",
    "        y_test.append(y[i])\n",
    "\n",
    "X_train = np.asarray(X_train)\n",
    "X_test = np.asarray(X_test)\n",
    "y_train = np.asarray(y_train).reshape(-1,1)\n",
    "y_test = np.asarray(y_test).reshape(-1,1)\n",
    "\n",
    "print('X_train.shape', X_train.shape)\n",
    "print('X_test.shape', X_test.shape)\n",
    "print('y_train.shape', y_train.shape)\n",
    "print('y_test.shape', y_test.shape)"
   ]
  },
  {
   "cell_type": "code",
   "execution_count": 38,
   "id": "6bfa012e-4ade-4547-b9ed-574026cc1872",
   "metadata": {},
   "outputs": [],
   "source": [
    "\n",
    "import random\n",
    "import numpy as np\n",
    "\n",
    "class DeepFFNN(object):\n",
    "    \"\"\"\n",
    "    Author: Hanbaek Lyu\n",
    "    Genearal Deep Feedforward Neural Network implementation \n",
    "    Input data type: training_data = [pattern1, pattern2, ..., pattern n]\n",
    "    Activation: tanh for hidden layer and sigmoid for output layer \n",
    "    \n",
    "    pattern i = [np.array (input), np.array (output)]\n",
    "    \n",
    "    TODO: Currently uses square loss. Should be easy to implement other loss functions. \n",
    "    \"\"\"\n",
    "    def __init__(self, \n",
    "                 hidden_layer_sizes,  # input and output layer sizes read off from training data\n",
    "                 training_data,  # list of patterns [np.array (input), np.array (output)]\n",
    "                 activation_list=None): # desired list of activation functions in each layer. \n",
    "       \n",
    "        # initialize training data and layer info\n",
    "        self.training_data = training_data\n",
    "        self.activation_list = activation_list\n",
    "        self.list_layer_sizes = [len(self.training_data[0][0]) + 1] + hidden_layer_sizes + [len(self.training_data[0][1])]        \n",
    "        # add hidden unit in the input layer. No hidden units for the hidden layers. \n",
    "        self.n_layers = len(self.list_layer_sizes)-1\n",
    "        \n",
    "        self.initialize()\n",
    "        \n",
    "    def initialize(self):\n",
    "        \n",
    "        # list of activation functions\n",
    "        if self.activation_list is None:\n",
    "            activation_list = ['tanh' for i in np.arange(len(self.list_layer_sizes))]\n",
    "            activation_list[0] = 'identity'  # dummy activation for the input layer\n",
    "            activation_list[-1] = 'sigmoid'\n",
    "            self.activation_list = activation_list\n",
    "        # default activation of nodes\n",
    "        node_states = []\n",
    "        for i in np.arange(len(self.list_layer_sizes)):\n",
    "            node_states.append(np.zeros(shape=[self.list_layer_sizes[i], ]))\n",
    "        self.node_states = node_states\n",
    "        \n",
    "        # initial weight matrices \n",
    "        # use scheme from 'efficient backprop to initialize weights'\n",
    "        weight_matrices = []\n",
    "        for i in np.arange(self.n_layers):\n",
    "            weight_range = 1/(self.list_layer_sizes[i]**(0.5))\n",
    "            U = np.random.normal(loc = 0, scale = weight_range, size = (self.list_layer_sizes[i], self.list_layer_sizes[i+1]))\n",
    "            weight_matrices.append(U)\n",
    "        self.weight_matrices = weight_matrices\n",
    "           \n",
    "        # create arrays of 0's to store previous gradients for momentum term in SGD update \n",
    "        prev_grad_list = []\n",
    "        for i in np.arange(self.n_layers):\n",
    "            V = np.zeros((self.list_layer_sizes[i], self.list_layer_sizes[i+1]))\n",
    "            prev_grad_list.append(V)\n",
    "        self.prev_grad_list = prev_grad_list\n",
    "\n",
    "    def forwardPropagate(self, inputs):\n",
    "        # Forward propagate the input using the current weights and update node states \n",
    "        self.node_states[0][:-1] = inputs # avoid last coordinate for hidden unit \n",
    "        for i in np.arange(self.n_layers):    \n",
    "            X_new = self.node_states[i].T @ self.weight_matrices[i]\n",
    "            X_new = activation(X_new, type=self.activation_list[i+1])\n",
    "            self.node_states[i+1] = X_new\n",
    "        \n",
    "        return self.node_states[-1]\n",
    "\n",
    "    def backPropagate(self, targets):\n",
    "        \"\"\"\n",
    "        Backpropagate errors from the output to the input layer \n",
    "        Return gradients for the weight matrices\n",
    "        \"\"\"\n",
    "    \n",
    "        error_list = self.node_states.copy()\n",
    "        # error at the output layer to be backpropagated \n",
    "        error = -(np.asarray(targets) - np.asarray(self.node_states[-1]))\n",
    "        for L in range(self.n_layers, 0, -1): # layer index to be backpropagated \n",
    "            # print('L', L)\n",
    "            if L < self.n_layers: # Not backpropagating from the output layer\n",
    "                error = self.weight_matrices[L] @ error_list[L+1].reshape(-1,1)\n",
    "                error = error[:,0] \n",
    "            error_list[L] = delta_activation(self.node_states[L], type=self.activation_list[L]) * error\n",
    "            \n",
    "        # Compute the gradients\n",
    "        grad_list = self.weight_matrices.copy()\n",
    "        for i in np.arange(self.n_layers):\n",
    "            grad_list[i] = self.node_states[i].reshape(-1,1) @ error_list[i+1].reshape(1,-1) \n",
    "        \n",
    "        return grad_list\n",
    "\n",
    "\n",
    "    def train(self, iterations=100, learning_rate=0.5, momentum=0.5, rate_decay=0.01, verbose=True):\n",
    "        # N: learning rate\n",
    "        self.learning_rate = learning_rate\n",
    "        self.momentum = momentum\n",
    "        self.rate_decay = rate_decay\n",
    "        error = 10\n",
    "        i=0\n",
    "        while (i<iterations) and (error>0.001):\n",
    "            error = 0.0\n",
    "            random.shuffle(self.training_data)\n",
    "            for p in self.training_data:\n",
    "                inputs = p[0]\n",
    "                targets = p[1]\n",
    "                self.forwardPropagate(inputs)\n",
    "                grad_list = self.backPropagate(targets)\n",
    "                \n",
    "                for L in np.arange(self.n_layers):\n",
    "                    # update the L th weight matrix connecting L th and (L+1)st layers \n",
    "                    grad = grad_list[L]\n",
    "                    prev_grad = self.prev_grad_list[L]\n",
    "                    self.weight_matrices[L] -= self.learning_rate * grad + self.momentum * prev_grad\n",
    "                    self.prev_grad_list[L] = grad # store current gradient \n",
    "        \n",
    "                error += (0.5) * np.linalg.norm(np.asarray(targets) - self.node_states[-1])**2\n",
    "            \n",
    "            with open('error.txt', 'a') as errorfile:\n",
    "                errorfile.write(str(error) + '\\n')\n",
    "                errorfile.close()\n",
    "                \n",
    "            if (i % 5 == 0) and verbose:\n",
    "                print('iteration %i, error %-.5f' % (i, error))\n",
    "            # learning rate decay\n",
    "            self.learning_rate = 1/(np.log(i+2) * (i+50)**(0.5))\n",
    "            # self.learning_rate = self.learning_rate * (self.learning_rate / (self.learning_rate + (self.learning_rate * self.rate_decay)))\n",
    "            \n",
    "            i += 1  \n",
    "        \n",
    "    \n",
    "    def predict(self, X, normalize = False):\n",
    "        X = np.asarray(X).T\n",
    "        x = np.vstack((np.asarray(X), np.ones(X.shape[1]))) # add 1 for hidden units in the input layer\n",
    "        print('X.shape', X.shape)\n",
    "    \n",
    "        for i in np.arange(self.n_layers):    \n",
    "            x = x.T @ self.weight_matrices[i]\n",
    "            x = activation(x.T, type=self.activation_list[i+1])\n",
    "            \n",
    "        print('y_hat.shape', x.shape)\n",
    "        return x\n",
    "    \n",
    "### Helper functions     \n",
    "    \n",
    "def sigmoid(x):\n",
    "    return 1 / (1 + np.exp(-x))\n",
    "\n",
    "# derivative of sigmoid\n",
    "def dsigmoid(y):\n",
    "    return y * (1.0 - y)\n",
    "\n",
    "# using tanh over logistic sigmoid is recommended   \n",
    "\n",
    "def tanh(x):\n",
    "    return (1-np.exp(-2*x))/(1+np.exp(-2*x))\n",
    "    # return np.tanh(x)\n",
    "    \n",
    "# derivative for tanh sigmoid\n",
    "def dtanh(y):\n",
    "    return 1 - y*y\n",
    "\n",
    "\n",
    "### Helper functions\n",
    "\n",
    "def loss_function(y, y_hat, type='cross-entropy'):\n",
    "    \"\"\"\n",
    "    y_hat = column array of predictive PMF \n",
    "    y = column array of one-hot encoding of true class label\n",
    "    \"\"\"\n",
    "    if type == 'cross_entropy':\n",
    "        return cross_entropy(y=y, y_hat=y_hat)\n",
    "    elif type == 'square':\n",
    "        return (1/2) * (y_hat - y).T @ (y_hat - y)\n",
    "    elif type == 'softmax-cross-entropy':\n",
    "        return cross_entropy(y=y, y_hat=softmax(y_hat))\n",
    "   \n",
    "\n",
    "def delta_loss_function(y, y_hat, type='cross-entropy'):\n",
    "    \"\"\"\n",
    "    y_hat = column array of predictive PMF \n",
    "    y = column array of one-hot encoding of true class label\n",
    "    \"\"\"\n",
    "    # return delta_cross_entropy(y=y, y_hat=y_hat/np.sum(y_hat))\n",
    "    \n",
    "    if type == 'cross-entropy':\n",
    "        return delta_cross_entropy(y=y, y_hat=y_hat)\n",
    "    elif type == 'square':\n",
    "        return y_hat - y\n",
    "    elif type == 'softmax-cross-entropy':\n",
    "        return softmax(y_hat) - y\n",
    "\n",
    "        \n",
    "def activation(x, type='sigmoid'):\n",
    "    if type == 'sigmoid':\n",
    "        return 1/(1+np.exp(-x))\n",
    "    elif type == 'ReLU':\n",
    "        return np.maximum(0,x)\n",
    "    elif type == 'tanh':\n",
    "        return tanh(x)\n",
    "    elif type == 'identity':\n",
    "        return x\n",
    "    \n",
    "def delta_activation(y, type='sigmoid'):\n",
    "    # derivate of activation function\n",
    "    if type == 'sigmoid':\n",
    "        return y*(1-y)\n",
    "    elif type == 'ReLU':\n",
    "        return int((y>0))\n",
    "    elif type == 'tanh':\n",
    "        return 1-y**2\n",
    "    elif type == 'identity':\n",
    "        return 1\n",
    "        \n",
    "def sigmoid(x):\n",
    "    return 1/(1+np.exp(-x))\n",
    "\n",
    "def ReLU(x):\n",
    "    return np.maximum(0,x)\n",
    "\n",
    "\n",
    "def softmax(x):\n",
    "    exps = np.exp(x - np.max(x))\n",
    "    return exps / np.sum(exps)\n",
    "\n",
    "def cross_entropy(y, y_hat):\n",
    "    \"\"\"\n",
    "    y_hat = column array of predictive PMF \n",
    "    y = column array of one-hot encoding of true class label\n",
    "    \"\"\"\n",
    "    return -(y.T @ np.log(y_hat))[0][0]\n",
    "\n",
    "def delta_cross_entropy(y, y_hat):\n",
    "    \"\"\"\n",
    "    y_hat = column array of predictive PMF \n",
    "    y = column array of one-hot encoding of true class label\n",
    "    \"\"\"\n",
    "    y_hat /= np.max(y_hat)\n",
    "    z = y.copy()\n",
    "    for i in np.arange(y.shape[0]):\n",
    "        a = y.argmax(axis=0)[0]\n",
    "        z[i,0] = -1/y_hat[a, 0]\n",
    "    return z"
   ]
  },
  {
   "cell_type": "code",
   "execution_count": 39,
   "id": "68f2a58b-e7b2-4a01-9c7b-4f55f776eb90",
   "metadata": {},
   "outputs": [],
   "source": [
    "def compute_accuracy_metrics(Y_test, P_pred, use_opt_threshold=False, verbose=True):\n",
    "    \n",
    "    # y_test = binary label \n",
    "    # P_pred = predicted probability for y_test\n",
    "    # compuate various binary classification accuracy metrics\n",
    "    fpr, tpr, thresholds = metrics.roc_curve(Y_test, P_pred, pos_label=None)\n",
    "    mythre = thresholds[np.argmax(tpr - fpr)]\n",
    "    myauc = metrics.auc(fpr, tpr)\n",
    "    # print('!!! auc', myauc)\n",
    "    \n",
    "    # Compute classification statistics\n",
    "    threshold = 0.5\n",
    "    if use_opt_threshold:\n",
    "        threshold = mythre\n",
    "    \n",
    "    Y_pred = P_pred.copy()\n",
    "    Y_pred[Y_pred < threshold] = 0\n",
    "    Y_pred[Y_pred >= threshold] = 1\n",
    "\n",
    "    mcm = confusion_matrix(Y_test, Y_pred)\n",
    "    \n",
    "    tn = mcm[0, 0]\n",
    "    tp = mcm[1, 1]\n",
    "    fn = mcm[1, 0]\n",
    "    fp = mcm[0, 1]\n",
    "\n",
    "    accuracy = (tp + tn) / (tp + tn + fp + fn)\n",
    "    sensitivity = tn / (tn + fp)\n",
    "    specificity = tp / (tp + fn)\n",
    "    precision = tp / (tp + fp)\n",
    "    fall_out = fp / (fp + tn)\n",
    "    miss_rate = fn / (fn + tp)\n",
    "\n",
    "    # Save results\n",
    "    results_dict = {}\n",
    "    results_dict.update({'Y_test': Y_test})\n",
    "    results_dict.update({'Y_pred': Y_pred})\n",
    "    results_dict.update({'AUC': myauc})\n",
    "    results_dict.update({'Opt_threshold': mythre})\n",
    "    results_dict.update({'Accuracy': accuracy})\n",
    "    results_dict.update({'Sensitivity': sensitivity})\n",
    "    results_dict.update({'Specificity': specificity})\n",
    "    results_dict.update({'Precision': precision})\n",
    "    results_dict.update({'Fall_out': fall_out})\n",
    "    results_dict.update({'Miss_rate': miss_rate})\n",
    "    results_dict.update({'Confusion_mx': mcm})\n",
    "    \n",
    "    \n",
    "    if verbose:\n",
    "        for key in [key for key in results_dict.keys()]:\n",
    "            if key not in ['Y_test', 'Y_pred', 'Confusion_mx']:\n",
    "                print('% s ===> %.3f' % (key, results_dict.get(key)))\n",
    "        print('Confusion matrix \\n ===>', mcm)\n",
    "            \n",
    "    return results_dict, Y_pred"
   ]
  },
  {
   "cell_type": "code",
   "execution_count": 40,
   "id": "ce1c711b-4976-4797-b896-818b75e317e7",
   "metadata": {},
   "outputs": [],
   "source": [
    "def draw_confusion_matrix(y, yhat, classes):\n",
    "    '''\n",
    "        Draws a confusion matrix for the given target and predictions\n",
    "        Adapted from scikit-learn and discussion example.\n",
    "    '''\n",
    "    plt.cla()\n",
    "    plt.clf()\n",
    "    matrix = confusion_matrix(y, yhat)\n",
    "    plt.imshow(matrix, interpolation='nearest', cmap=plt.cm.Blues)\n",
    "    plt.title(\"Confusion Matrix\")\n",
    "    plt.colorbar()\n",
    "    num_classes = len(classes)\n",
    "    plt.xticks(np.arange(num_classes), classes, rotation=90)\n",
    "    plt.yticks(np.arange(num_classes), classes)\n",
    "    \n",
    "    fmt = 'd'\n",
    "    thresh = matrix.max() / 2.\n",
    "    for i, j in itertools.product(range(matrix.shape[0]), range(matrix.shape[1])):\n",
    "        plt.text(j, i, format(matrix[i, j], fmt),\n",
    "                 horizontalalignment=\"center\",\n",
    "                 color=\"white\" if matrix[i, j] > thresh else \"black\")\n",
    "\n",
    "    plt.ylabel('True label')\n",
    "    plt.xlabel('Predicted label')\n",
    "    plt.tight_layout()\n",
    "    plt.show()"
   ]
  },
  {
   "cell_type": "code",
   "execution_count": 41,
   "id": "3f8f0d6b-ab66-4fe5-91b6-a99d1ed8d9f9",
   "metadata": {},
   "outputs": [
    {
     "name": "stdout",
     "output_type": "stream",
     "text": [
      "iteration 0, error 43.19119\n",
      "iteration 5, error 24.04512\n",
      "iteration 10, error 23.05870\n",
      "iteration 15, error 22.10144\n",
      "iteration 20, error 21.69590\n",
      "iteration 25, error 21.16107\n",
      "iteration 30, error 20.74605\n",
      "iteration 35, error 19.98387\n",
      "iteration 40, error 20.12112\n",
      "iteration 45, error 19.81058\n",
      "iteration 50, error 19.20362\n",
      "iteration 55, error 19.05660\n",
      "iteration 60, error 18.84456\n",
      "iteration 65, error 18.42071\n",
      "iteration 70, error 18.20455\n",
      "iteration 75, error 17.85300\n",
      "iteration 80, error 17.60644\n",
      "iteration 85, error 17.49218\n",
      "iteration 90, error 17.09805\n",
      "iteration 95, error 16.67092\n",
      "X.shape (27, 61)\n",
      "y_hat.shape (2, 61)\n",
      "Confusion Matrix: \n",
      "\n",
      "AUC ===> 0.927\n",
      "Opt_threshold ===> 0.681\n",
      "Accuracy ===> 0.869\n",
      "Sensitivity ===> 0.731\n",
      "Specificity ===> 0.971\n",
      "Precision ===> 0.829\n",
      "Fall_out ===> 0.269\n",
      "Miss_rate ===> 0.029\n",
      "Confusion matrix \n",
      " ===> [[19  7]\n",
      " [ 1 34]]\n"
     ]
    },
    {
     "data": {
      "image/png": "[encoded data removed]",
      "text/plain": [
       "<Figure size 432x288 with 2 Axes>"
      ]
     },
     "metadata": {
      "needs_background": "light"
     },
     "output_type": "display_data"
    }
   ],
   "source": [
    "y0 = list2onehot(y_train, [0,1])\n",
    "\n",
    "out = []\n",
    "# populate the tuple list with the data\n",
    "for i in range(X_train.shape[0]):\n",
    "    item = list((X_train[i,:], y0[i,:])) \n",
    "    out.append(item)\n",
    "    \n",
    "    \n",
    "\n",
    "# FFNN training\n",
    "NN = DeepFFNN(hidden_layer_sizes=[5], training_data = out)\n",
    "NN.train(iterations=100, learning_rate = 0.5, momentum = 0, rate_decay = 0.01)\n",
    "\n",
    "\n",
    "# FFNN prediction\n",
    "\n",
    "X_test /= np.max(X_test)\n",
    "out_test = []\n",
    "for i in range(X_test.shape[0]):\n",
    "    out_test.append(X_test[i,:].tolist())\n",
    "\n",
    "y_hat = NN.predict(out_test).T\n",
    "\n",
    "y_test_label = np.asarray(y_test)\n",
    "\n",
    "P_pred = np.asarray([p[1] for p in y_hat])\n",
    "\n",
    "\n",
    "print(\"Confusion Matrix: \\n\")\n",
    "metrics, y_preedd = compute_accuracy_metrics(Y_test=y_test, P_pred=P_pred, use_opt_threshold=False, verbose=True)\n",
    "draw_confusion_matrix(y_test, y_preedd, ['not sick', 'sick'])\n"
   ]
  }
 ],
 "metadata": {
  "kernelspec": {
   "display_name": "Python 3.7 (tensorflow)",
   "language": "python",
   "name": "tensorflow"
  },
  "language_info": {
   "codemirror_mode": {
    "name": "ipython",
    "version": 3
   },
   "file_extension": ".py",
   "mimetype": "text/x-python",
   "name": "python",
   "nbconvert_exporter": "python",
   "pygments_lexer": "ipython3",
   "version": "3.8.8"
  }
 },
 "nbformat": 4,
 "nbformat_minor": 5
}
